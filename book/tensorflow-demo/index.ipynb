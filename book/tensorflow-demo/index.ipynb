{
 "cells": [
  {
   "cell_type": "markdown",
   "id": "9e064f3a-089c-4f66-bead-777ff86a53bb",
   "metadata": {},
   "source": [
    "# Tensorflow.js in Jupyter\n",
    "\n",
    "We're going to use a [pre-trained model](https://nextjournal.com/gkoehler/digit-recognition-with-keras) based on the [MNIST dataset](https://en.wikipedia.org/wiki/MNIST_database) in order to recognize digits written on a `<canvas>` element on this notebook."
   ]
  },
  {
   "cell_type": "markdown",
   "id": "d66a0f6d-6281-4f36-bdd0-5a6ff723abe1",
   "metadata": {},
   "source": [
    "## Free-drawing in Canvas\n",
    "\n",
    "The browser library `canvas-free-drawing` is a faily simple way to recollect user drawn input.\n",
    "\n",
    "First we load it into the browser:"
   ]
  },
  {
   "cell_type": "code",
   "execution_count": null,
   "id": "42a0ccf0-2a3f-498b-b7ff-e430b163f548",
   "metadata": {},
   "outputs": [
    {
     "data": {
      "text/html": [
       "<!DOCTYPE html><html><head></head><body>\n",
       "<script src=\"https://cdn.jsdelivr.net/npm/canvas-free-drawing@2.1.0/umd/canvas-free-drawing.min.js\"></script>\n",
       "\n",
       "Done.\n",
       "</body></html>\n"
      ]
     },
     "execution_count": 1,
     "metadata": {},
     "output_type": "execute_result"
    }
   ],
   "source": [
    "import { resolve } from 'path';\n",
    "\n",
    "document.body.innerHTML = `\n",
    "<script src=\"https://cdn.jsdelivr.net/npm/canvas-free-drawing@2.1.0/umd/canvas-free-drawing.min.js\"></script>\n",
    "\n",
    "Done.\n",
    "`;\n",
    "\n",
    "jupyter.renderDom();"
   ]
  },
  {
   "cell_type": "markdown",
   "id": "1de926eb-be05-4123-86fa-04cdd3099871",
   "metadata": {},
   "source": [
    "Then we render a small canvas to draw on:"
   ]
  },
  {
   "cell_type": "code",
   "execution_count": null,
   "id": "4edec429-7263-4196-92f9-c5bc57947470",
   "metadata": {},
   "outputs": [
    {
     "data": {
      "text/html": [
       "<!DOCTYPE html><html><head></head><body>\n",
       "<canvas id=\"freeDrawCanvasTest\" style=\"border: 1px solid #888888;\"></canvas>\n",
       "<div id=\"canvasTestStatus\"></div>\n",
       "<button onclick=\"window.cfdTest.clear()\">Clear</button>\n",
       "<script>\n",
       "  if (\n",
       "    typeof CanvasFreeDrawing !== 'undefined'\n",
       "  ) {\n",
       "    window.cfdTest = new CanvasFreeDrawing.default({\n",
       "      elementId: 'freeDrawCanvasTest',\n",
       "      width: 140,\n",
       "      height: 140,\n",
       "    });\n",
       "\n",
       "    // set properties\n",
       "    window.cfdTest.setLineWidth(10); // in px\n",
       "    window.cfdTest.setStrokeColor([0, 0, 0]); // in RGB\n",
       "  }\n",
       "</script>\n",
       "</body></html>\n"
      ]
     },
     "execution_count": 4,
     "metadata": {},
     "output_type": "execute_result"
    }
   ],
   "source": [
    "document.body.innerHTML = `\n",
    "<canvas id=\"freeDrawCanvasTest\" style=\"border: 1px solid #888888;\"></canvas>\n",
    "<div id=\"canvasTestStatus\"></div>\n",
    "<button onclick=\"window.cfdTest.clear()\">Clear</button>\n",
    "<script>\n",
    "  if (\n",
    "    typeof CanvasFreeDrawing !== 'undefined'\n",
    "  ) {\n",
    "    window.cfdTest = new CanvasFreeDrawing.default({\n",
    "      elementId: 'freeDrawCanvasTest',\n",
    "      width: 140,\n",
    "      height: 140,\n",
    "    });\n",
    "\n",
    "    // set properties\n",
    "    window.cfdTest.setLineWidth(10); // in px\n",
    "    window.cfdTest.setStrokeColor([0, 0, 0]); // in RGB\n",
    "  }\n",
    "</script>\n",
    "`;\n",
    "\n",
    "jupyter.renderDom();"
   ]
  },
  {
   "cell_type": "markdown",
   "id": "53f9ed5c-ab06-4427-9bab-34939dfe55a5",
   "metadata": {},
   "source": [
    "```{note}\n",
    "Once exported, this is the only demo that will be interactive. The rest will be rendered static. You will have to [download the template from github](https://github.com/jeanlescure/typescript-jupyter-book-template) and run it locally to interact with the other examples on this notebook.\n",
    "```"
   ]
  },
  {
   "cell_type": "markdown",
   "id": "81ba0f80-8b81-40a5-a93a-535b58622981",
   "metadata": {},
   "source": [
    "## Back-end / Front-end Communication\n",
    "\n",
    "We should be able to setup a WebSocket server that can provide two-way communication between the TypeScript back-end and the HTML front-end:"
   ]
  },
  {
   "cell_type": "code",
   "execution_count": null,
   "id": "d754d6b7-dc34-4e18-9911-03d3a3167bb6",
   "metadata": {},
   "outputs": [],
   "source": [
    "import {\n",
    "  readFileSync,\n",
    "  writeFileSync,\n",
    "  rmSync,\n",
    "} from 'fs';\n",
    "import { WebSocketServer } from 'ws';\n",
    "\n",
    "(async () => {\n",
    "  // When you run this process it never returns an output to Jupyter\n",
    "  // nor does Jupyter know how to engage with a running script\n",
    "  //\n",
    "  // To make sure we do not spawn too many back-end processes and/or\n",
    "  // hit an EADDRINUSE error, we keep track of the pid of it, then\n",
    "  // make sure to kill the previous running instance every time\n",
    "  try {\n",
    "    process.kill(readFileSync('.wsComm.pid'), 'SIGKILL');\n",
    "    rmSync('.wsComm.pid');\n",
    "    await new Promise((resolve) => setTimeout(resolve, 1000));\n",
    "  } catch {\n",
    "      // Do Nothing\n",
    "  }\n",
    "\n",
    "  writeFileSync('.wsComm.pid', `${process.pid}`);\n",
    "\n",
    "  // Run a WebSocket server\n",
    "  const wss = new WebSocketServer({ port: 9890 });\n",
    "\n",
    "  wss.on('connection', (ws) => {\n",
    "    ws.on('message', (eventData) => {\n",
    "      // Handle incoming data from the front-end\n",
    "      const {data, width, height} = JSON.parse(eventData.toString());\n",
    "\n",
    "      // Do something trivial with the image data for now, just to make\n",
    "      // sure all is working as it should\n",
    "      const imageData = Object.values(data);\n",
    "      const whitePercent = Math.round((imageData.filter((n) => n === 255).length / imageData.length) * 100);\n",
    "      const blackPercent = Math.round((imageData.filter((n) => n === 0).length / imageData.length) * 100);\n",
    "\n",
    "      // Respond with a result to display on the front-end\n",
    "      ws.send(\n",
    "        JSON.stringify(\n",
    "          {\n",
    "            response: `Image ${width}x${height} | ${whitePercent}% white | ${blackPercent}% black`\n",
    "          }\n",
    "        )\n",
    "      );\n",
    "    });\n",
    "  });\n",
    "})();"
   ]
  },
  {
   "cell_type": "markdown",
   "id": "ebf96945-a427-411a-b4b3-4a933e5de141",
   "metadata": {},
   "source": [
    "and the HTML front-end should be able to communicate with the back-end:"
   ]
  },
  {
   "cell_type": "code",
   "execution_count": null,
   "id": "8e8ab24f-15d8-429f-b9d7-62f1695fff80",
   "metadata": {},
   "outputs": [],
   "source": [
    "document.body.innerHTML = `\n",
    "<canvas id=\"freeDrawCanvasComm\" style=\"border: 1px solid #888888;\"></canvas>\n",
    "<div id=\"canvasCommStatus\"></div>\n",
    "<button onclick=\"window.cfdComm.clear()\">Clear</button>\n",
    "<script>\n",
    "  // Every time we run this cell we should reset any previously\n",
    "  // connected WebSockets\n",
    "  if (typeof window.socketComm !== 'undefined') {\n",
    "    window.socketComm.close();\n",
    "  }\n",
    "\n",
    "  // Connect to the back-end\n",
    "  window.socketComm = new WebSocket('ws://localhost:9890');\n",
    "  window.socketComm.binaryType = \"arraybuffer\";\n",
    "\n",
    "  // Connection opened\n",
    "  window.socketComm.addEventListener('open', function (event) {\n",
    "    canvasCommStatus.innerHTML = 'Connected!';\n",
    "  });\n",
    "\n",
    "  // Listen for messages\n",
    "  window.socketComm.addEventListener('message', function (event) {\n",
    "    canvasCommStatus.innerHTML = 'Message from server: ' + JSON.parse(event.data.toString()).response;\n",
    "  });\n",
    "\n",
    "  if (\n",
    "    typeof CanvasFreeDrawing !== 'undefined'\n",
    "  ) {\n",
    "    window.cfdComm = new CanvasFreeDrawing.default({\n",
    "      elementId: 'freeDrawCanvasComm',\n",
    "      width: 150,\n",
    "      height: 150,\n",
    "    });\n",
    "\n",
    "    // set properties\n",
    "    window.cfdComm.setLineWidth(10); // in px\n",
    "    window.cfdComm.setStrokeColor([0, 0, 0]); // in RGB\n",
    "\n",
    "    // Send the image data to the back-end every time we're done drawing\n",
    "    window.cfdComm.on({ event: 'mouseleave' }, () => {\n",
    "      const { data, width, height } = cfdComm.context.getImageData(0, 0, 150, 150);\n",
    "\n",
    "      window.socketComm.send(JSON.stringify({ data, width, height }));\n",
    "    });\n",
    "  }\n",
    "</script>\n",
    "`;\n",
    "\n",
    "jupyter.renderDom();"
   ]
  },
  {
   "cell_type": "markdown",
   "id": "609fe3d5-a92a-4cb9-9878-e589606a9a60",
   "metadata": {},
   "source": [
    "![](2022-02-28_12-32.png)\n",
    "<div>Message from server: Image 150x150 | 86% white | 14% black</div>\n",
    "<button>Clear</button>\n",
    "\n",
    "```{note}\n",
    "This is a static example of the output you would get when running the notebook. To see the interactive demo [download the template from github](https://github.com/jeanlescure/typescript-jupyter-book-template) and run it locally.\n",
    "```"
   ]
  },
  {
   "cell_type": "markdown",
   "id": "404a3d49-4fce-4ff7-8356-c557af733c79",
   "metadata": {},
   "source": [
    "## Using digit recognition model with Tensorflow\n",
    "\n",
    "Now that we have validated that we can run a back-end and front-end from Jupyter with Typescript, and that both processes can communicate together, we can continue on forward and translate a model from `h5` (Keras) to a set files that can be used with `tfjs` using the command:\n",
    "\n",
    "```sh\n",
    "tensorflowjs_converter --input_format keras mnist.h5 .\n",
    "```\n",
    "\n",
    "Then update the back-end to receive the data from the front-end, create a tensor from it, and make a prediction using the model (which it sends back to the front-end):"
   ]
  },
  {
   "cell_type": "code",
   "execution_count": null,
   "id": "30910841-de2a-4c7c-ac88-f9d9b24a7fe6",
   "metadata": {},
   "outputs": [],
   "source": [
    "import { resolve } from 'path';\n",
    "import {\n",
    "    readFileSync,\n",
    "    writeFileSync,\n",
    "    rmSync,\n",
    "} from 'fs';\n",
    "import { WebSocketServer } from 'ws';\n",
    "import * as tf from '@tensorflow/tfjs';\n",
    "import * as tfn from '@tensorflow/tfjs-node';\n",
    "\n",
    "(async () => {\n",
    "  try {\n",
    "    process.kill(readFileSync('.ws.pid'), 'SIGKILL');\n",
    "    rmSync('.ws.pid');\n",
    "    await new Promise((resolve) => setTimeout(resolve, 1000));\n",
    "  } catch {\n",
    "    // Do Nothing\n",
    "  }\n",
    "\n",
    "  const handler = tfn.io.fileSystem(resolve(__dirname, 'model/model.json'));\n",
    "  const model = await tf.loadLayersModel(handler);\n",
    "\n",
    "  writeFileSync('.ws.pid', `${process.pid}`);\n",
    "\n",
    "  const wss = new WebSocketServer({ port: 9898 });\n",
    "\n",
    "  wss.on('connection', (ws) => {\n",
    "    ws.on('message', async (eventData) => {\n",
    "      const {data: rawData, width, height} = JSON.parse(eventData.toString());\n",
    "      const data = Object.values(rawData);\n",
    "\n",
    "      // We run our predictions inside of tf.tidy to make sure\n",
    "      // we avoid memory leaks by cleaning up intermediate\n",
    "      // memory allocated to the tensors\n",
    "      await tf.tidy(() => {\n",
    "        let img = tf.tensor(data);\n",
    "        img = img.reshape([1, 28, 28, 1]);\n",
    "        img = tf.cast(img, 'float32');\n",
    "\n",
    "        const output = model.predict(img) as any;\n",
    "\n",
    "        const predictions = Array.from(\n",
    "            output.dataSync()\n",
    "        );\n",
    "\n",
    "        // Once we have our predictions we look for the one\n",
    "        // with the highest confidence\n",
    "        const prediction = predictions.findIndex(\n",
    "          (n) => n === predictions.reduce(\n",
    "            (a, p) => ((p > a) ? p : a),\n",
    "            0\n",
    "          )\n",
    "        );\n",
    "\n",
    "        // We get the confidence of the previously found\n",
    "        // prediction and turn it to a percentage\n",
    "        const confidence = predictions[prediction] * 100;\n",
    "\n",
    "        // And send the results to the front-end via the WebSocket\n",
    "        ws.send(\n",
    "          JSON.stringify(\n",
    "            {\n",
    "              response: `the number is <strong>${prediction}</strong> <i>(${confidence}% confidence)</i>`,\n",
    "              // response: JSON.stringify(predictions),\n",
    "            }\n",
    "          )\n",
    "        );\n",
    "      });\n",
    "    });\n",
    "  });\n",
    "})();"
   ]
  },
  {
   "cell_type": "markdown",
   "id": "eb80cc04-9416-46bb-b3f5-382462379150",
   "metadata": {},
   "source": [
    "Then simply make sure to send the image data from the front-end's `<canvas>` to the back-end for processing in real-time:"
   ]
  },
  {
   "cell_type": "code",
   "execution_count": null,
   "id": "0c698a07-7d58-4e02-96c0-9848bb60cbf2",
   "metadata": {},
   "outputs": [],
   "source": [
    "import { readFileSync } from 'fs';\n",
    "\n",
    "const canvasFreeDrawingSrc = readFileSync('./canvas-free-drawing.min.js');\n",
    "\n",
    "document.body.innerHTML = `\n",
    "<canvas id=\"freeDrawCanvas\" style=\"border: 1px solid #888888;\"></canvas>\n",
    "<div id=\"canvasStatus\"></div>\n",
    "<button onclick=\"window.cfd.clear()\">Clear</button>\n",
    "<script>\n",
    "    if (typeof window.socket !== 'undefined') {\n",
    "        window.socket.close();\n",
    "    }\n",
    "\n",
    "    window.socket = new WebSocket('ws://localhost:9898');\n",
    "    window.socket.binaryType = \"arraybuffer\";\n",
    "\n",
    "    // Connection opened\n",
    "    window.socket.addEventListener('open', function (event) {\n",
    "        canvasStatus.innerHTML = 'Connected!';\n",
    "    });\n",
    "\n",
    "    // Listen for messages\n",
    "    window.socket.addEventListener('message', function (event) {\n",
    "        canvasStatus.innerHTML = 'Message from server: ' + JSON.parse(event.data.toString()).response;\n",
    "    });\n",
    "\n",
    "    if (\n",
    "      typeof CanvasFreeDrawing !== 'undefined'\n",
    "    ) {\n",
    "      window.cfd = new CanvasFreeDrawing.default({\n",
    "        elementId: 'freeDrawCanvas',\n",
    "        backgroundColor: [0, 0, 0],\n",
    "        width: 140,\n",
    "        height: 140,\n",
    "      });\n",
    "\n",
    "      // set properties\n",
    "      window.cfd.setLineWidth(5); // in px\n",
    "      window.cfd.setStrokeColor([255, 255, 255]); // in RGB\n",
    "\n",
    "      window.cfd.on({ event: 'mouseleave' }, async () => {\n",
    "        const imageData = cfd.context.getImageData(0, 0, 140, 140);\n",
    "\n",
    "        const resizeWidth = 28 >> 0;\n",
    "        const resizeHeight = 28 >> 0;\n",
    "        const ibm = await window.createImageBitmap(\n",
    "          imageData,\n",
    "          0,\n",
    "          0,\n",
    "          imageData.width,\n",
    "          imageData.height,\n",
    "          {\n",
    "            resizeWidth,\n",
    "            resizeHeight\n",
    "          }\n",
    "        );\n",
    "\n",
    "        // The image is scaled down to 28x28 pixels since that\n",
    "        // is what the model was trained on\n",
    "        const resizeCanvas = document.createElement('canvas');\n",
    "        resizeCanvas.width = 28;\n",
    "        resizeCanvas.height = 28;\n",
    "        const resizeCtx = resizeCanvas.getContext('2d');\n",
    "        resizeCtx.drawImage(ibm, 0, 0);\n",
    "        const { data: rawData, width, height } = resizeCtx.getImageData(0, 0, 28, 28);\n",
    "\n",
    "        // Since the image is black and white, we can simply\n",
    "        // take only every 4th value (due to pixels being in RGBA)\n",
    "        const data = rawData.reduce(\n",
    "          (a, b, i) => {if (i % 4 === 0) {a.push(b)} return a;},\n",
    "          []\n",
    "        );\n",
    "\n",
    "        window.socket.send(JSON.stringify({ data, width, height }));\n",
    "      });\n",
    "    }\n",
    "</script>\n",
    "`;\n",
    "\n",
    "jupyter.renderDom();"
   ]
  },
  {
   "cell_type": "markdown",
   "id": "856663f1-5d15-474f-8952-23a237d063bf",
   "metadata": {},
   "source": [
    "```{note}\n",
    "The colors are inverted since the model used was trained on images with black background and white foreground.\n",
    "```"
   ]
  },
  {
   "cell_type": "markdown",
   "id": "aac7f1e5-75ef-4967-9da0-95467425fa98",
   "metadata": {},
   "source": [
    "![](2022-02-28_12-34.png)\n",
    "<div>Message from server: the number is <strong>7</strong> <i>(100% confidence)</i></div>\n",
    "<button>Clear</button>\n",
    "\n",
    "```{note}\n",
    "This is a static example of the output you would get when running the notebook. To see the interactive demo [download the template from github](https://github.com/jeanlescure/typescript-jupyter-book-template) and run it locally.\n",
    "```"
   ]
  },
  {
   "cell_type": "markdown",
   "id": "1b0c089c-45e3-40dd-84f4-6a7f56970b4a",
   "metadata": {},
   "source": [
    "## Mandatory victory GIF"
   ]
  },
  {
   "cell_type": "code",
   "execution_count": null,
   "id": "ea07960b-e2f3-499e-98f9-a004aa73b0fb",
   "metadata": {},
   "outputs": [
    {
     "data": {
      "text/html": [
       "<!DOCTYPE html><html><head></head><body><img src=\"https://media.giphy.com/media/HQWLR3lyeGbawyfYIw/giphy.gif\"></body></html>\n"
      ]
     },
     "execution_count": 3,
     "metadata": {},
     "output_type": "execute_result"
    }
   ],
   "source": [
    "document.body.innerHTML = '<img src=\"https://media.giphy.com/media/HQWLR3lyeGbawyfYIw/giphy.gif\" />';\n",
    "jupyter.renderDom();"
   ]
  }
 ],
 "metadata": {
  "kernelspec": {
   "display_name": "Typescript",
   "language": "ts",
   "name": "typescript"
  },
  "language_info": {
   "codemirror_mode": "ts",
   "file_extension": ".ts",
   "mimetype": "text/x-typescript",
   "name": "typescript",
   "nbconvert_exporter": "",
   "pygments_lexer": "ts",
   "version": "1.0"
  }
 },
 "nbformat": 4,
 "nbformat_minor": 5
}
