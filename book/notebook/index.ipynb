{
 "cells": [
  {
   "cell_type": "markdown",
   "metadata": {},
   "source": [
    "# A Typescript Notebook\n",
    "\n",
    "This book uses [typescript-jupyter-kernel](https://github.com/simplyhexagonal/typescript-jupyter-kernel) to execute Typescript code.\n",
    "\n",
    "## Accessing the Filesystem\n",
    "\n",
    "For example we can load some csv data from the local filesystem using `fs` and parse the data using [d3-dsv](https://github.com/d3/d3-dsv)"
   ]
  },
  {
   "cell_type": "code",
   "execution_count": null,
   "metadata": {},
   "outputs": [
    {
     "data": {
      "text/html": [
       "<pre> [\n",
       "  {\n",
       "    Country: 'Luxembourg',\n",
       "    'Hourly Minimum Wage in USD (2015)': '11.9',\n",
       "    'Hourly Minimum Wage in USD (2016)': '11.8',\n",
       "    'Hourly Minimum Wage in USD (2017)': '12.1',\n",
       "    'Hourly Minimum Wage in USD (2018)': '12',\n",
       "    'Hourly Minimum Wage in USD (2019)': '12.2',\n",
       "    'Hourly Minimum Wage in USD (2020)': '12.4'\n",
       "  },\n",
       "  {\n",
       "    Country: 'Australia',\n",
       "    'Hourly Minimum Wage in USD (2015)': '11.6',\n",
       "    'Hourly Minimum Wage in USD (2016)': '11.8',\n",
       "    'Hourly Minimum Wage in USD (2017)': '11.9',\n",
       "    'Hourly Minimum Wage in USD (2018)': '12',\n",
       "    'Hourly Minimum Wage in USD (2019)': '12.2',\n",
       "    'Hourly Minimum Wage in USD (2020)': '12.4'\n",
       "  },\n",
       "  {\n",
       "    Country: 'France',\n",
       "    'Hourly Minimum Wage in USD (2015)': '12',\n",
       "    'Hourly Minimum Wage in USD (2016)': '12.1',\n",
       "    'Hourly Minimum Wage in USD (2017)': '12.1',\n",
       "    'Hourly Minimum Wage in USD (2018)': '12',\n",
       "    'Hourly Minimum Wage in USD (2019)': '12.1',\n",
       "    'Hourly Minimum Wage in USD (2020)': '12.1'\n",
       "  },\n",
       "  {\n",
       "    Country: 'Germany',\n",
       "    'Hourly Minimum Wage in USD (2015)': '11.3',\n",
       "    'Hourly Minimum Wage in USD (2016)': '11.3',\n",
       "    'Hourly Minimum Wage in USD (2017)': '11.6',\n",
       "    'Hourly Minimum Wage in USD (2018)': '11.4',\n",
       "    'Hourly Minimum Wage in USD (2019)': '11.7',\n",
       "    'Hourly Minimum Wage in USD (2020)': '11.8'\n",
       "  },\n",
       "  {\n",
       "    Country: 'New Zealand',\n",
       "    'Hourly Minimum Wage in USD (2015)': '9.8',\n",
       "    'Hourly Minimum Wage in USD (2016)': '10.1',\n",
       "    'Hourly Minimum Wage in USD (2017)': '10.2',\n",
       "    'Hourly Minimum Wage in USD (2018)': '10.4',\n",
       "    'Hourly Minimum Wage in USD (2019)': '11',\n",
       "    'Hourly Minimum Wage in USD (2020)': '11.6'\n",
       "  },\n",
       "  columns: [\n",
       "    'Country',\n",
       "    'Hourly Minimum Wage in USD (2015)',\n",
       "    'Hourly Minimum Wage in USD (2016)',\n",
       "    'Hourly Minimum Wage in USD (2017)',\n",
       "    'Hourly Minimum Wage in USD (2018)',\n",
       "    'Hourly Minimum Wage in USD (2019)',\n",
       "    'Hourly Minimum Wage in USD (2020)'\n",
       "  ]\n",
       "] </pre>\n"
      ]
     },
     "execution_count": 4,
     "metadata": {},
     "output_type": "execute_result"
    }
   ],
   "source": [
    "import { readFileSync } from 'fs';\n",
    "\n",
    "const { csvParse } = require('./d3-dsv.js');\n",
    "\n",
    "const rawData = readFileSync('./data.csv').toString('utf-8');\n",
    "\n",
    "const parsedData = csvParse(rawData);\n",
    "\n",
    "jupyter.out(parsedData);"
   ]
  },
  {
   "cell_type": "markdown",
   "metadata": {},
   "source": [
    "## Rendering to HTML\n",
    "\n",
    "We can take the previous code and use the convenience `jupyter` object to render an HTML table:"
   ]
  },
  {
   "cell_type": "code",
   "execution_count": null,
   "metadata": {},
   "outputs": [
    {
     "data": {
      "text/html": [
       "<!DOCTYPE html><html><head></head><body><table><thead><tr><th>Country</th><th>Hourly Minimum Wage in USD (2015)</th><th>Hourly Minimum Wage in USD (2016)</th><th>Hourly Minimum Wage in USD (2017)</th><th>Hourly Minimum Wage in USD (2018)</th><th>Hourly Minimum Wage in USD (2019)</th><th>Hourly Minimum Wage in USD (2020)</th></tr></thead><tbody><tr><td>Luxembourg</td><td>11.9</td><td>11.8</td><td>12.1</td><td>12</td><td>12.2</td><td>12.4</td></tr><tr><td>Australia</td><td>11.6</td><td>11.8</td><td>11.9</td><td>12</td><td>12.2</td><td>12.4</td></tr><tr><td>France</td><td>12</td><td>12.1</td><td>12.1</td><td>12</td><td>12.1</td><td>12.1</td></tr><tr><td>Germany</td><td>11.3</td><td>11.3</td><td>11.6</td><td>11.4</td><td>11.7</td><td>11.8</td></tr><tr><td>New Zealand</td><td>9.8</td><td>10.1</td><td>10.2</td><td>10.4</td><td>11</td><td>11.6</td></tr></tbody></table></body></html>\n"
      ]
     },
     "execution_count": 5,
     "metadata": {},
     "output_type": "execute_result"
    }
   ],
   "source": [
    "import { readFileSync } from 'fs';\n",
    "\n",
    "const { csvParseRows } = require('./d3-dsv.js');\n",
    "\n",
    "const rawData = readFileSync('./data.csv').toString('utf-8');\n",
    "\n",
    "const [\n",
    "  columnHeaders,\n",
    "  ...rows\n",
    "] = csvParseRows(rawData);\n",
    "\n",
    "const table = jupyter.dom.window.document.createElement('table');\n",
    "const tableHeader = jupyter.dom.window.document.createElement('thead');\n",
    "const tableHeaderRow = jupyter.dom.window.document.createElement('tr');\n",
    "const tableBody = jupyter.dom.window.document.createElement('tbody');\n",
    "\n",
    "columnHeaders.forEach(\n",
    "  (h) => {\n",
    "    const columnHeader = jupyter.dom.window.document.createElement('th');\n",
    "    columnHeader.innerHTML = h;\n",
    "\n",
    "    tableHeaderRow.appendChild(columnHeader);\n",
    "  }\n",
    ");\n",
    "\n",
    "tableHeader.appendChild(tableHeaderRow);\n",
    "\n",
    "rows.forEach(\n",
    "  (r) => {\n",
    "    const rowElement = jupyter.dom.window.document.createElement('tr');\n",
    "\n",
    "    r.forEach(\n",
    "      (d) => {\n",
    "        const dataElement = jupyter.dom.window.document.createElement('td');\n",
    "        dataElement.innerHTML = d;\n",
    "\n",
    "        rowElement.appendChild(dataElement);\n",
    "      }\n",
    "    );\n",
    "\n",
    "    tableBody.appendChild(rowElement);\n",
    "  }\n",
    ");\n",
    "\n",
    "table.appendChild(tableHeader);\n",
    "\n",
    "table.appendChild(tableBody);\n",
    "\n",
    "jupyter.dom.window.document.body.appendChild(table);\n",
    "\n",
    "jupyter.render();\n"
   ]
  },
  {
   "cell_type": "markdown",
   "metadata": {},
   "source": [
    "There is a lot more that you can do with outputs (such as including interactive outputs)\n",
    "with your book. For more information about this, see [the Jupyter Book documentation](https://jupyterbook.org)"
   ]
  }
 ],
 "metadata": {
  "kernelspec": {
   "display_name": "Typescript",
   "language": "ts",
   "name": "typescript"
  },
  "language_info": {
   "codemirror_mode": "ts",
   "file_extension": ".ts",
   "mimetype": "text/x-typescript",
   "name": "typescript",
   "nbconvert_exporter": "",
   "pygments_lexer": "ts",
   "version": "1.0"
  },
  "widgets": {
   "application/vnd.jupyter.widget-state+json": {
    "state": {},
    "version_major": 2,
    "version_minor": 0
   }
  }
 },
 "nbformat": 4,
 "nbformat_minor": 4
}
